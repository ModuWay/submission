{
 "cells": [
  {
   "cell_type": "markdown",
   "metadata": {
    "id": "NGHEwc8Ipc8q"
   },
   "source": [
    "# fbprophet 모델을 활용한 인공지능 비트 트레이더 경진대회 베이스라인 코드"
   ]
  },
  {
   "cell_type": "markdown",
   "metadata": {
    "id": "DWFN7rLkpc8z"
   },
   "source": [
    "# 1. Library Import"
   ]
  },
  {
   "cell_type": "code",
   "execution_count": 1,
   "metadata": {
    "id": "yyFoOWXPpc8z"
   },
   "outputs": [
    {
     "name": "stderr",
     "output_type": "stream",
     "text": [
      "Importing plotly failed. Interactive plots will not work.\n"
     ]
    }
   ],
   "source": [
    "import numpy as np\n",
    "import pandas as pd\n",
    "import gc\n",
    "import math\n",
    "import os.path\n",
    "import time\n",
    "import matplotlib.pyplot as plt\n",
    "from datetime import timedelta, datetime\n",
    "from dateutil import parser\n",
    "from tqdm import tqdm\n",
    "import copy\n",
    "from statsmodels.tsa.arima.model import ARIMA\n",
    "from statsmodels.graphics.tsaplots import plot_acf, plot_pacf\n",
    "from fbprophet import Prophet\n",
    "import warnings\n",
    "import datetime\n",
    "warnings.filterwarnings(\"ignore\")"
   ]
  },
  {
   "cell_type": "markdown",
   "metadata": {
    "id": "DbSjRtv9pc80"
   },
   "source": [
    "# 2. 데이터 불러오기"
   ]
  },
  {
   "cell_type": "markdown",
   "metadata": {
    "id": "r1Gj0sBXpc81"
   },
   "source": [
    "## 1) read_csv"
   ]
  },
  {
   "cell_type": "code",
   "execution_count": 2,
   "metadata": {
    "id": "zD66e_8opc81"
   },
   "outputs": [],
   "source": [
    "data_path = os.getenv('HOME')+ '/Projects/daconTrader/dataset'\n",
    "train_x_df = pd.read_csv(data_path  + \"/train_x_df.csv\")\n",
    "train_y_df = pd.read_csv(data_path  + \"/train_y_df.csv\")\n",
    "test_x_df = pd.read_csv(data_path  + \"/test_x_df.csv\")"
   ]
  },
  {
   "cell_type": "markdown",
   "metadata": {
    "id": "G9AMliBFpc81"
   },
   "source": [
    "## 2) numpy arrary로 변환하기"
   ]
  },
  {
   "cell_type": "code",
   "execution_count": 3,
   "metadata": {},
   "outputs": [],
   "source": [
    "def df2d_to_array3d(df_2d):\n",
    "    # 입력 받은 2차원 데이터 프레임을 3차원 numpy array로 변경하는 함수\n",
    "    feature_size = df_2d.iloc[:,2:].shape[1]\n",
    "    time_size = len(df_2d.time.value_counts())\n",
    "    sample_size = len(df_2d.sample_id.value_counts())\n",
    "    print(feature_size, time_size, sample_size)\n",
    "    print(sample_index)\n",
    "    sample_index = df_2d.sample_id.value_counts().index\n",
    "    array_3d = df_2d.iloc[:,2:].values.reshape([sample_size, time_size, feature_size])\n",
    "    return array_3d"
   ]
  },
  {
   "cell_type": "code",
   "execution_count": 4,
   "metadata": {},
   "outputs": [
    {
     "name": "stdout",
     "output_type": "stream",
     "text": [
      "(10159560, 12)\n",
      "10\n",
      "Int64Index([   0, 4919, 4913, 4912, 4915, 4914, 4909, 4908, 4911, 4910,\n",
      "            ...\n",
      "            2454, 2455, 2452, 2453, 2450, 2451, 2448, 2449, 2446, 7360],\n",
      "           dtype='int64', length=7362)\n"
     ]
    },
    {
     "data": {
      "text/html": [
       "<div>\n",
       "<style scoped>\n",
       "    .dataframe tbody tr th:only-of-type {\n",
       "        vertical-align: middle;\n",
       "    }\n",
       "\n",
       "    .dataframe tbody tr th {\n",
       "        vertical-align: top;\n",
       "    }\n",
       "\n",
       "    .dataframe thead th {\n",
       "        text-align: right;\n",
       "    }\n",
       "</style>\n",
       "<table border=\"1\" class=\"dataframe\">\n",
       "  <thead>\n",
       "    <tr style=\"text-align: right;\">\n",
       "      <th></th>\n",
       "      <th>sample_id</th>\n",
       "      <th>time</th>\n",
       "      <th>coin_index</th>\n",
       "      <th>open</th>\n",
       "      <th>high</th>\n",
       "      <th>low</th>\n",
       "      <th>close</th>\n",
       "      <th>volume</th>\n",
       "      <th>quote_av</th>\n",
       "      <th>trades</th>\n",
       "      <th>tb_base_av</th>\n",
       "      <th>tb_quote_av</th>\n",
       "    </tr>\n",
       "  </thead>\n",
       "  <tbody>\n",
       "    <tr>\n",
       "      <th>0</th>\n",
       "      <td>0</td>\n",
       "      <td>0</td>\n",
       "      <td>7</td>\n",
       "      <td>1.010004</td>\n",
       "      <td>1.010004</td>\n",
       "      <td>1.009612</td>\n",
       "      <td>1.010004</td>\n",
       "      <td>8.382875e+05</td>\n",
       "      <td>43160.632812</td>\n",
       "      <td>451.157288</td>\n",
       "      <td>7.326834e+05</td>\n",
       "      <td>37725.183594</td>\n",
       "    </tr>\n",
       "    <tr>\n",
       "      <th>1</th>\n",
       "      <td>0</td>\n",
       "      <td>1</td>\n",
       "      <td>7</td>\n",
       "      <td>1.009808</td>\n",
       "      <td>1.009808</td>\n",
       "      <td>1.009808</td>\n",
       "      <td>1.009808</td>\n",
       "      <td>1.622420e+05</td>\n",
       "      <td>8352.220703</td>\n",
       "      <td>39.231071</td>\n",
       "      <td>0.000000e+00</td>\n",
       "      <td>0.000000</td>\n",
       "    </tr>\n",
       "    <tr>\n",
       "      <th>2</th>\n",
       "      <td>0</td>\n",
       "      <td>2</td>\n",
       "      <td>7</td>\n",
       "      <td>1.009808</td>\n",
       "      <td>1.010200</td>\n",
       "      <td>1.009808</td>\n",
       "      <td>1.010200</td>\n",
       "      <td>1.664967e+04</td>\n",
       "      <td>857.377808</td>\n",
       "      <td>58.846603</td>\n",
       "      <td>1.664967e+04</td>\n",
       "      <td>857.377808</td>\n",
       "    </tr>\n",
       "    <tr>\n",
       "      <th>3</th>\n",
       "      <td>0</td>\n",
       "      <td>3</td>\n",
       "      <td>7</td>\n",
       "      <td>1.010200</td>\n",
       "      <td>1.011181</td>\n",
       "      <td>1.010200</td>\n",
       "      <td>1.011181</td>\n",
       "      <td>2.586971e+06</td>\n",
       "      <td>133310.343750</td>\n",
       "      <td>431.541779</td>\n",
       "      <td>2.189147e+06</td>\n",
       "      <td>112811.046875</td>\n",
       "    </tr>\n",
       "    <tr>\n",
       "      <th>4</th>\n",
       "      <td>0</td>\n",
       "      <td>4</td>\n",
       "      <td>7</td>\n",
       "      <td>1.010985</td>\n",
       "      <td>1.010985</td>\n",
       "      <td>1.010200</td>\n",
       "      <td>1.010200</td>\n",
       "      <td>1.129996e+06</td>\n",
       "      <td>58216.867188</td>\n",
       "      <td>176.539810</td>\n",
       "      <td>0.000000e+00</td>\n",
       "      <td>0.000000</td>\n",
       "    </tr>\n",
       "    <tr>\n",
       "      <th>...</th>\n",
       "      <td>...</td>\n",
       "      <td>...</td>\n",
       "      <td>...</td>\n",
       "      <td>...</td>\n",
       "      <td>...</td>\n",
       "      <td>...</td>\n",
       "      <td>...</td>\n",
       "      <td>...</td>\n",
       "      <td>...</td>\n",
       "      <td>...</td>\n",
       "      <td>...</td>\n",
       "      <td>...</td>\n",
       "    </tr>\n",
       "    <tr>\n",
       "      <th>10159555</th>\n",
       "      <td>7361</td>\n",
       "      <td>1375</td>\n",
       "      <td>8</td>\n",
       "      <td>1.000668</td>\n",
       "      <td>1.001669</td>\n",
       "      <td>1.000626</td>\n",
       "      <td>1.001502</td>\n",
       "      <td>9.180907e+00</td>\n",
       "      <td>2203.059082</td>\n",
       "      <td>2.245034</td>\n",
       "      <td>6.229020e+00</td>\n",
       "      <td>1494.727417</td>\n",
       "    </tr>\n",
       "    <tr>\n",
       "      <th>10159556</th>\n",
       "      <td>7361</td>\n",
       "      <td>1376</td>\n",
       "      <td>8</td>\n",
       "      <td>1.001627</td>\n",
       "      <td>1.001920</td>\n",
       "      <td>1.000960</td>\n",
       "      <td>1.001294</td>\n",
       "      <td>7.963097e+00</td>\n",
       "      <td>1911.151611</td>\n",
       "      <td>2.211651</td>\n",
       "      <td>3.056139e+00</td>\n",
       "      <td>733.490601</td>\n",
       "    </tr>\n",
       "    <tr>\n",
       "      <th>10159557</th>\n",
       "      <td>7361</td>\n",
       "      <td>1377</td>\n",
       "      <td>8</td>\n",
       "      <td>1.001294</td>\n",
       "      <td>1.001461</td>\n",
       "      <td>1.000584</td>\n",
       "      <td>1.000668</td>\n",
       "      <td>3.849893e+00</td>\n",
       "      <td>923.610718</td>\n",
       "      <td>1.260224</td>\n",
       "      <td>2.284546e+00</td>\n",
       "      <td>548.042297</td>\n",
       "    </tr>\n",
       "    <tr>\n",
       "      <th>10159558</th>\n",
       "      <td>7361</td>\n",
       "      <td>1378</td>\n",
       "      <td>8</td>\n",
       "      <td>1.000709</td>\n",
       "      <td>1.000751</td>\n",
       "      <td>1.000042</td>\n",
       "      <td>1.000042</td>\n",
       "      <td>1.337402e+00</td>\n",
       "      <td>320.624756</td>\n",
       "      <td>0.826239</td>\n",
       "      <td>5.164965e-01</td>\n",
       "      <td>123.819839</td>\n",
       "    </tr>\n",
       "    <tr>\n",
       "      <th>10159559</th>\n",
       "      <td>7361</td>\n",
       "      <td>1379</td>\n",
       "      <td>8</td>\n",
       "      <td>1.000000</td>\n",
       "      <td>1.000918</td>\n",
       "      <td>0.999958</td>\n",
       "      <td>1.000876</td>\n",
       "      <td>1.278548e+00</td>\n",
       "      <td>306.542389</td>\n",
       "      <td>0.642631</td>\n",
       "      <td>7.320906e-01</td>\n",
       "      <td>175.527679</td>\n",
       "    </tr>\n",
       "  </tbody>\n",
       "</table>\n",
       "<p>10159560 rows × 12 columns</p>\n",
       "</div>"
      ],
      "text/plain": [
       "          sample_id  time  coin_index      open      high       low     close  \\\n",
       "0                 0     0           7  1.010004  1.010004  1.009612  1.010004   \n",
       "1                 0     1           7  1.009808  1.009808  1.009808  1.009808   \n",
       "2                 0     2           7  1.009808  1.010200  1.009808  1.010200   \n",
       "3                 0     3           7  1.010200  1.011181  1.010200  1.011181   \n",
       "4                 0     4           7  1.010985  1.010985  1.010200  1.010200   \n",
       "...             ...   ...         ...       ...       ...       ...       ...   \n",
       "10159555       7361  1375           8  1.000668  1.001669  1.000626  1.001502   \n",
       "10159556       7361  1376           8  1.001627  1.001920  1.000960  1.001294   \n",
       "10159557       7361  1377           8  1.001294  1.001461  1.000584  1.000668   \n",
       "10159558       7361  1378           8  1.000709  1.000751  1.000042  1.000042   \n",
       "10159559       7361  1379           8  1.000000  1.000918  0.999958  1.000876   \n",
       "\n",
       "                volume       quote_av      trades    tb_base_av    tb_quote_av  \n",
       "0         8.382875e+05   43160.632812  451.157288  7.326834e+05   37725.183594  \n",
       "1         1.622420e+05    8352.220703   39.231071  0.000000e+00       0.000000  \n",
       "2         1.664967e+04     857.377808   58.846603  1.664967e+04     857.377808  \n",
       "3         2.586971e+06  133310.343750  431.541779  2.189147e+06  112811.046875  \n",
       "4         1.129996e+06   58216.867188  176.539810  0.000000e+00       0.000000  \n",
       "...                ...            ...         ...           ...            ...  \n",
       "10159555  9.180907e+00    2203.059082    2.245034  6.229020e+00    1494.727417  \n",
       "10159556  7.963097e+00    1911.151611    2.211651  3.056139e+00     733.490601  \n",
       "10159557  3.849893e+00     923.610718    1.260224  2.284546e+00     548.042297  \n",
       "10159558  1.337402e+00     320.624756    0.826239  5.164965e-01     123.819839  \n",
       "10159559  1.278548e+00     306.542389    0.642631  7.320906e-01     175.527679  \n",
       "\n",
       "[10159560 rows x 12 columns]"
      ]
     },
     "execution_count": 4,
     "metadata": {},
     "output_type": "execute_result"
    }
   ],
   "source": [
    "print(train_x_df.shape)\n",
    "print(train_x_df.iloc[:, 2:].shape[1])\n",
    "print(train_x_df.sample_id.value_counts().index)\n",
    "train_x_df"
   ]
  },
  {
   "cell_type": "code",
   "execution_count": 5,
   "metadata": {
    "id": "37kkNub5pc82"
   },
   "outputs": [],
   "source": [
    "def df2d_to_array3d(df_2d):\n",
    "    # 입력 받은 2차원 데이터 프레임을 3차원 numpy array로 변경하는 함수\n",
    "    feature_size = df_2d.iloc[:,2:].shape[1]\n",
    "    time_size = len(df_2d.time.value_counts())\n",
    "    sample_size = len(df_2d.sample_id.value_counts())\n",
    "    sample_index = df_2d.sample_id.value_counts().index\n",
    "    array_3d = df_2d.iloc[:,2:].values.reshape([sample_size, time_size, feature_size])\n",
    "    return array_3d"
   ]
  },
  {
   "cell_type": "code",
   "execution_count": 6,
   "metadata": {
    "id": "yqy6-8Kbpc82"
   },
   "outputs": [],
   "source": [
    "train_x_array = df2d_to_array3d(train_x_df)\n",
    "train_y_array = df2d_to_array3d(train_y_df)\n",
    "test_x_array = df2d_to_array3d(test_x_df)"
   ]
  },
  {
   "cell_type": "code",
   "execution_count": 7,
   "metadata": {
    "colab": {
     "base_uri": "https://localhost:8080/"
    },
    "id": "iQwrvA8rpc83",
    "outputId": "254e49da-96ec-4f6d-bb8b-b548d49f9b7a"
   },
   "outputs": [
    {
     "name": "stdout",
     "output_type": "stream",
     "text": [
      "\n",
      "train_x_array (7362, 1380, 10)\n",
      "train_y_array (7362, 120, 10)\n",
      "test_x_array (529, 1380, 10)\n",
      "\n"
     ]
    }
   ],
   "source": [
    "print(f'''\n",
    "train_x_array {train_x_array.shape}\n",
    "train_y_array {train_y_array.shape}\n",
    "test_x_array {test_x_array.shape}\n",
    "''')"
   ]
  },
  {
   "cell_type": "code",
   "execution_count": 8,
   "metadata": {},
   "outputs": [
    {
     "data": {
      "text/html": [
       "<div>\n",
       "<style scoped>\n",
       "    .dataframe tbody tr th:only-of-type {\n",
       "        vertical-align: middle;\n",
       "    }\n",
       "\n",
       "    .dataframe tbody tr th {\n",
       "        vertical-align: top;\n",
       "    }\n",
       "\n",
       "    .dataframe thead th {\n",
       "        text-align: right;\n",
       "    }\n",
       "</style>\n",
       "<table border=\"1\" class=\"dataframe\">\n",
       "  <thead>\n",
       "    <tr style=\"text-align: right;\">\n",
       "      <th></th>\n",
       "      <th>sample_id</th>\n",
       "      <th>time</th>\n",
       "      <th>coin_index</th>\n",
       "      <th>open</th>\n",
       "      <th>high</th>\n",
       "      <th>low</th>\n",
       "      <th>close</th>\n",
       "      <th>volume</th>\n",
       "      <th>quote_av</th>\n",
       "      <th>trades</th>\n",
       "      <th>tb_base_av</th>\n",
       "      <th>tb_quote_av</th>\n",
       "    </tr>\n",
       "  </thead>\n",
       "  <tbody>\n",
       "    <tr>\n",
       "      <th>12420</th>\n",
       "      <td>9</td>\n",
       "      <td>0</td>\n",
       "      <td>8</td>\n",
       "      <td>0.890505</td>\n",
       "      <td>0.890505</td>\n",
       "      <td>0.888492</td>\n",
       "      <td>0.888956</td>\n",
       "      <td>0.014102</td>\n",
       "      <td>15.130775</td>\n",
       "      <td>0.043911</td>\n",
       "      <td>0.003921</td>\n",
       "      <td>4.211208</td>\n",
       "    </tr>\n",
       "    <tr>\n",
       "      <th>12421</th>\n",
       "      <td>9</td>\n",
       "      <td>1</td>\n",
       "      <td>8</td>\n",
       "      <td>0.889014</td>\n",
       "      <td>0.890207</td>\n",
       "      <td>0.888525</td>\n",
       "      <td>0.890207</td>\n",
       "      <td>0.034416</td>\n",
       "      <td>36.922348</td>\n",
       "      <td>0.070423</td>\n",
       "      <td>0.022080</td>\n",
       "      <td>23.691704</td>\n",
       "    </tr>\n",
       "    <tr>\n",
       "      <th>12422</th>\n",
       "      <td>9</td>\n",
       "      <td>2</td>\n",
       "      <td>8</td>\n",
       "      <td>0.889925</td>\n",
       "      <td>0.890613</td>\n",
       "      <td>0.888956</td>\n",
       "      <td>0.889097</td>\n",
       "      <td>0.007280</td>\n",
       "      <td>7.814134</td>\n",
       "      <td>0.030655</td>\n",
       "      <td>0.003276</td>\n",
       "      <td>3.517720</td>\n",
       "    </tr>\n",
       "    <tr>\n",
       "      <th>12423</th>\n",
       "      <td>9</td>\n",
       "      <td>3</td>\n",
       "      <td>8</td>\n",
       "      <td>0.889105</td>\n",
       "      <td>0.889809</td>\n",
       "      <td>0.888981</td>\n",
       "      <td>0.889809</td>\n",
       "      <td>0.065626</td>\n",
       "      <td>70.442078</td>\n",
       "      <td>0.072080</td>\n",
       "      <td>0.023214</td>\n",
       "      <td>24.924473</td>\n",
       "    </tr>\n",
       "    <tr>\n",
       "      <th>12424</th>\n",
       "      <td>9</td>\n",
       "      <td>4</td>\n",
       "      <td>8</td>\n",
       "      <td>0.889387</td>\n",
       "      <td>0.889809</td>\n",
       "      <td>0.888964</td>\n",
       "      <td>0.889006</td>\n",
       "      <td>0.033088</td>\n",
       "      <td>35.513706</td>\n",
       "      <td>0.032312</td>\n",
       "      <td>0.011007</td>\n",
       "      <td>11.820933</td>\n",
       "    </tr>\n",
       "    <tr>\n",
       "      <th>...</th>\n",
       "      <td>...</td>\n",
       "      <td>...</td>\n",
       "      <td>...</td>\n",
       "      <td>...</td>\n",
       "      <td>...</td>\n",
       "      <td>...</td>\n",
       "      <td>...</td>\n",
       "      <td>...</td>\n",
       "      <td>...</td>\n",
       "      <td>...</td>\n",
       "      <td>...</td>\n",
       "      <td>...</td>\n",
       "    </tr>\n",
       "    <tr>\n",
       "      <th>13795</th>\n",
       "      <td>9</td>\n",
       "      <td>1375</td>\n",
       "      <td>8</td>\n",
       "      <td>0.996553</td>\n",
       "      <td>0.998310</td>\n",
       "      <td>0.995874</td>\n",
       "      <td>0.996048</td>\n",
       "      <td>0.034429</td>\n",
       "      <td>41.407940</td>\n",
       "      <td>0.036454</td>\n",
       "      <td>0.024453</td>\n",
       "      <td>29.416124</td>\n",
       "    </tr>\n",
       "    <tr>\n",
       "      <th>13796</th>\n",
       "      <td>9</td>\n",
       "      <td>1376</td>\n",
       "      <td>8</td>\n",
       "      <td>0.998310</td>\n",
       "      <td>1.001649</td>\n",
       "      <td>0.996081</td>\n",
       "      <td>1.001649</td>\n",
       "      <td>0.015088</td>\n",
       "      <td>18.181959</td>\n",
       "      <td>0.038111</td>\n",
       "      <td>0.011223</td>\n",
       "      <td>13.531894</td>\n",
       "    </tr>\n",
       "    <tr>\n",
       "      <th>13797</th>\n",
       "      <td>9</td>\n",
       "      <td>1377</td>\n",
       "      <td>8</td>\n",
       "      <td>1.001616</td>\n",
       "      <td>1.001632</td>\n",
       "      <td>0.996810</td>\n",
       "      <td>0.998343</td>\n",
       "      <td>0.019898</td>\n",
       "      <td>23.967190</td>\n",
       "      <td>0.040597</td>\n",
       "      <td>0.011968</td>\n",
       "      <td>14.422297</td>\n",
       "    </tr>\n",
       "    <tr>\n",
       "      <th>13798</th>\n",
       "      <td>9</td>\n",
       "      <td>1378</td>\n",
       "      <td>8</td>\n",
       "      <td>0.998368</td>\n",
       "      <td>1.000613</td>\n",
       "      <td>0.998368</td>\n",
       "      <td>1.000000</td>\n",
       "      <td>0.022654</td>\n",
       "      <td>27.326807</td>\n",
       "      <td>0.038940</td>\n",
       "      <td>0.008166</td>\n",
       "      <td>9.854794</td>\n",
       "    </tr>\n",
       "    <tr>\n",
       "      <th>13799</th>\n",
       "      <td>9</td>\n",
       "      <td>1379</td>\n",
       "      <td>8</td>\n",
       "      <td>1.000000</td>\n",
       "      <td>1.001392</td>\n",
       "      <td>1.000000</td>\n",
       "      <td>1.001392</td>\n",
       "      <td>0.032183</td>\n",
       "      <td>38.869141</td>\n",
       "      <td>0.055510</td>\n",
       "      <td>0.015375</td>\n",
       "      <td>18.570288</td>\n",
       "    </tr>\n",
       "  </tbody>\n",
       "</table>\n",
       "<p>1380 rows × 12 columns</p>\n",
       "</div>"
      ],
      "text/plain": [
       "       sample_id  time  coin_index      open      high       low     close  \\\n",
       "12420          9     0           8  0.890505  0.890505  0.888492  0.888956   \n",
       "12421          9     1           8  0.889014  0.890207  0.888525  0.890207   \n",
       "12422          9     2           8  0.889925  0.890613  0.888956  0.889097   \n",
       "12423          9     3           8  0.889105  0.889809  0.888981  0.889809   \n",
       "12424          9     4           8  0.889387  0.889809  0.888964  0.889006   \n",
       "...          ...   ...         ...       ...       ...       ...       ...   \n",
       "13795          9  1375           8  0.996553  0.998310  0.995874  0.996048   \n",
       "13796          9  1376           8  0.998310  1.001649  0.996081  1.001649   \n",
       "13797          9  1377           8  1.001616  1.001632  0.996810  0.998343   \n",
       "13798          9  1378           8  0.998368  1.000613  0.998368  1.000000   \n",
       "13799          9  1379           8  1.000000  1.001392  1.000000  1.001392   \n",
       "\n",
       "         volume   quote_av    trades  tb_base_av  tb_quote_av  \n",
       "12420  0.014102  15.130775  0.043911    0.003921     4.211208  \n",
       "12421  0.034416  36.922348  0.070423    0.022080    23.691704  \n",
       "12422  0.007280   7.814134  0.030655    0.003276     3.517720  \n",
       "12423  0.065626  70.442078  0.072080    0.023214    24.924473  \n",
       "12424  0.033088  35.513706  0.032312    0.011007    11.820933  \n",
       "...         ...        ...       ...         ...          ...  \n",
       "13795  0.034429  41.407940  0.036454    0.024453    29.416124  \n",
       "13796  0.015088  18.181959  0.038111    0.011223    13.531894  \n",
       "13797  0.019898  23.967190  0.040597    0.011968    14.422297  \n",
       "13798  0.022654  27.326807  0.038940    0.008166     9.854794  \n",
       "13799  0.032183  38.869141  0.055510    0.015375    18.570288  \n",
       "\n",
       "[1380 rows x 12 columns]"
      ]
     },
     "execution_count": 8,
     "metadata": {},
     "output_type": "execute_result"
    }
   ],
   "source": [
    "train_x_df[train_x_df['sample_id']==9]"
   ]
  },
  {
   "cell_type": "code",
   "execution_count": 9,
   "metadata": {
    "scrolled": true
   },
   "outputs": [
    {
     "data": {
      "text/plain": [
       "1380"
      ]
     },
     "execution_count": 9,
     "metadata": {},
     "output_type": "execute_result"
    }
   ],
   "source": [
    "train_x_df[train_x_df['sample_id']==9].time.nunique()"
   ]
  },
  {
   "cell_type": "code",
   "execution_count": 10,
   "metadata": {},
   "outputs": [
    {
     "data": {
      "text/plain": [
       "7362"
      ]
     },
     "execution_count": 10,
     "metadata": {},
     "output_type": "execute_result"
    }
   ],
   "source": [
    "train_x_df['sample_id'].nunique()"
   ]
  },
  {
   "cell_type": "markdown",
   "metadata": {
    "id": "k5q2658lpc84"
   },
   "source": [
    "## 3) 샘플 확인하기"
   ]
  },
  {
   "cell_type": "code",
   "execution_count": 11,
   "metadata": {
    "id": "8i3KkEeepc84"
   },
   "outputs": [],
   "source": [
    "def plot_series(x_series, y_series):\n",
    "    #입력 series와 출력 series를 연속적으로 연결하여 시각적으로 보여주는 코드 입니다.\n",
    "    plt.plot(x_series, label = 'input_series')\n",
    "    plt.plot(np.arange(len(x_series), len(x_series)+len(y_series)),\n",
    "             y_series, label = 'output_series')\n",
    "    plt.axhline(1, c = 'red')\n",
    "    plt.legend()"
   ]
  },
  {
   "cell_type": "code",
   "execution_count": 12,
   "metadata": {
    "colab": {
     "base_uri": "https://localhost:8080/",
     "height": 212
    },
    "id": "PquVAYyppc85",
    "outputId": "74850b0a-c2f3-4fa9-f590-f9c88f838889"
   },
   "outputs": [
    {
     "data": {
      "image/png": "[encoded data removed]",
      "text/plain": [
       "<Figure size 432x288 with 1 Axes>"
      ]
     },
     "metadata": {
      "needs_background": "light"
     },
     "output_type": "display_data"
    }
   ],
   "source": [
    "# sample_id 1012에 해당하는 sample의 분단위 시가 변동 정보 시각화\n",
    "idx = 1000\n",
    "plot_series(train_x_array[idx,:,2], train_y_array[idx,:,2]) #종가\n",
    "plt.show()"
   ]
  },
  {
   "cell_type": "code",
   "execution_count": 13,
   "metadata": {},
   "outputs": [
    {
     "data": {
      "image/png": "[encoded data removed]",
      "text/plain": [
       "<Figure size 432x288 with 1 Axes>"
      ]
     },
     "metadata": {
      "needs_background": "light"
     },
     "output_type": "display_data"
    }
   ],
   "source": [
    "# sample_id 1012에 해당하는 sample의 분단위 시가 변동 정보 시각화\n",
    "idx = 1021\n",
    "plot_series(train_x_array[idx,:,3], train_y_array[idx,:,3]) # 1-4, open, high, low, close\n",
    "plt.show()"
   ]
  },
  {
   "cell_type": "markdown",
   "metadata": {
    "id": "bFIBsI92pc85"
   },
   "source": [
    "# 3. 모델 훈련하기"
   ]
  },
  {
   "cell_type": "markdown",
   "metadata": {
    "id": "9o7iUwSSpc85"
   },
   "source": [
    "## 1) train 샘플 훈련하기"
   ]
  },
  {
   "cell_type": "code",
   "execution_count": 14,
   "metadata": {
    "id": "1PCfRyT-O57L"
   },
   "outputs": [],
   "source": [
    "start_time = '2021-01-31 00:00:00'\n",
    "start_dt = datetime.datetime.strptime(start_time, '%Y-%m-%d %H:%M:%S')"
   ]
  },
  {
   "cell_type": "code",
   "execution_count": 15,
   "metadata": {
    "id": "JHEvIk9KM1fO"
   },
   "outputs": [],
   "source": [
    "idx = 1121\n",
    "# train data 중 sample_id 1121에 해당하는 x_series로 arima 모델을 학습한 후\n",
    "# y_sereis를 추론\n",
    "x_series = train_x_array[idx,:,1]\n",
    "y_series = train_y_array[idx,:,1]"
   ]
  },
  {
   "cell_type": "code",
   "execution_count": 16,
   "metadata": {
    "id": "_wkNvaRAM3zu"
   },
   "outputs": [],
   "source": [
    "x_df = pd.DataFrame()\n",
    "x_df['ds'] = [start_dt + datetime.timedelta(minutes = time_min) for time_min in np.arange(1, x_series.shape[0]+1).tolist()]\n",
    "x_df['y'] = x_series.tolist()"
   ]
  },
  {
   "cell_type": "code",
   "execution_count": 17,
   "metadata": {
    "colab": {
     "base_uri": "https://localhost:8080/",
     "height": 204
    },
    "id": "cZOSbwIEN-8s",
    "outputId": "373d37e4-3813-4814-bf18-eaa23b63d917"
   },
   "outputs": [
    {
     "data": {
      "text/html": [
       "<div>\n",
       "<style scoped>\n",
       "    .dataframe tbody tr th:only-of-type {\n",
       "        vertical-align: middle;\n",
       "    }\n",
       "\n",
       "    .dataframe tbody tr th {\n",
       "        vertical-align: top;\n",
       "    }\n",
       "\n",
       "    .dataframe thead th {\n",
       "        text-align: right;\n",
       "    }\n",
       "</style>\n",
       "<table border=\"1\" class=\"dataframe\">\n",
       "  <thead>\n",
       "    <tr style=\"text-align: right;\">\n",
       "      <th></th>\n",
       "      <th>ds</th>\n",
       "      <th>y</th>\n",
       "    </tr>\n",
       "  </thead>\n",
       "  <tbody>\n",
       "    <tr>\n",
       "      <th>0</th>\n",
       "      <td>2021-01-31 00:01:00</td>\n",
       "      <td>1.024379</td>\n",
       "    </tr>\n",
       "    <tr>\n",
       "      <th>1</th>\n",
       "      <td>2021-01-31 00:02:00</td>\n",
       "      <td>1.024140</td>\n",
       "    </tr>\n",
       "    <tr>\n",
       "      <th>2</th>\n",
       "      <td>2021-01-31 00:03:00</td>\n",
       "      <td>1.023901</td>\n",
       "    </tr>\n",
       "    <tr>\n",
       "      <th>3</th>\n",
       "      <td>2021-01-31 00:04:00</td>\n",
       "      <td>1.024140</td>\n",
       "    </tr>\n",
       "    <tr>\n",
       "      <th>4</th>\n",
       "      <td>2021-01-31 00:05:00</td>\n",
       "      <td>1.024618</td>\n",
       "    </tr>\n",
       "  </tbody>\n",
       "</table>\n",
       "</div>"
      ],
      "text/plain": [
       "                   ds         y\n",
       "0 2021-01-31 00:01:00  1.024379\n",
       "1 2021-01-31 00:02:00  1.024140\n",
       "2 2021-01-31 00:03:00  1.023901\n",
       "3 2021-01-31 00:04:00  1.024140\n",
       "4 2021-01-31 00:05:00  1.024618"
      ]
     },
     "execution_count": 17,
     "metadata": {},
     "output_type": "execute_result"
    }
   ],
   "source": [
    "x_df.head()"
   ]
  },
  {
   "cell_type": "code",
   "execution_count": null,
   "metadata": {},
   "outputs": [],
   "source": [
    "# 파라미터 조정\n",
    "scale = 0.02\n",
    "width = 0.95\n",
    "point_range = 1"
   ]
  },
  {
   "cell_type": "code",
   "execution_count": 18,
   "metadata": {
    "colab": {
     "base_uri": "https://localhost:8080/"
    },
    "id": "tTWbr3B6OHKd",
    "outputId": "101df720-dd0e-42db-93f3-2d068c6639ec"
   },
   "outputs": [
    {
     "data": {
      "text/plain": [
       "<fbprophet.forecaster.Prophet at 0x7fb2a7ec4290>"
      ]
     },
     "execution_count": 18,
     "metadata": {},
     "output_type": "execute_result"
    }
   ],
   "source": [
    "prophet = Prophet(\n",
    "                  yearly_seasonality=False,\n",
    "                  weekly_seasonality=False, daily_seasonality=False,\n",
    "                 changepoint_prior_scale=scale, changepoint_range=point_range,\n",
    "                         interval_width=width)\n",
    "prophet.fit(x_df)"
   ]
  },
  {
   "cell_type": "code",
   "execution_count": 19,
   "metadata": {
    "colab": {
     "base_uri": "https://localhost:8080/",
     "height": 394
    },
    "id": "6ntZW1-mQAa4",
    "outputId": "114f1da5-7eb5-4afb-969b-9edbf02500f9"
   },
   "outputs": [
    {
     "data": {
      "text/html": [
       "<div>\n",
       "<style scoped>\n",
       "    .dataframe tbody tr th:only-of-type {\n",
       "        vertical-align: middle;\n",
       "    }\n",
       "\n",
       "    .dataframe tbody tr th {\n",
       "        vertical-align: top;\n",
       "    }\n",
       "\n",
       "    .dataframe thead th {\n",
       "        text-align: right;\n",
       "    }\n",
       "</style>\n",
       "<table border=\"1\" class=\"dataframe\">\n",
       "  <thead>\n",
       "    <tr style=\"text-align: right;\">\n",
       "      <th></th>\n",
       "      <th>ds</th>\n",
       "      <th>yhat</th>\n",
       "      <th>yhat_lower</th>\n",
       "      <th>yhat_upper</th>\n",
       "    </tr>\n",
       "  </thead>\n",
       "  <tbody>\n",
       "    <tr>\n",
       "      <th>1495</th>\n",
       "      <td>2021-02-01 00:56:00</td>\n",
       "      <td>0.981304</td>\n",
       "      <td>0.956784</td>\n",
       "      <td>1.001587</td>\n",
       "    </tr>\n",
       "    <tr>\n",
       "      <th>1496</th>\n",
       "      <td>2021-02-01 00:57:00</td>\n",
       "      <td>0.981165</td>\n",
       "      <td>0.956694</td>\n",
       "      <td>1.001515</td>\n",
       "    </tr>\n",
       "    <tr>\n",
       "      <th>1497</th>\n",
       "      <td>2021-02-01 00:58:00</td>\n",
       "      <td>0.981026</td>\n",
       "      <td>0.957323</td>\n",
       "      <td>1.001690</td>\n",
       "    </tr>\n",
       "    <tr>\n",
       "      <th>1498</th>\n",
       "      <td>2021-02-01 00:59:00</td>\n",
       "      <td>0.980887</td>\n",
       "      <td>0.955534</td>\n",
       "      <td>1.001973</td>\n",
       "    </tr>\n",
       "    <tr>\n",
       "      <th>1499</th>\n",
       "      <td>2021-02-01 01:00:00</td>\n",
       "      <td>0.980748</td>\n",
       "      <td>0.954963</td>\n",
       "      <td>1.001682</td>\n",
       "    </tr>\n",
       "  </tbody>\n",
       "</table>\n",
       "</div>"
      ],
      "text/plain": [
       "                      ds      yhat  yhat_lower  yhat_upper\n",
       "1495 2021-02-01 00:56:00  0.981304    0.956784    1.001587\n",
       "1496 2021-02-01 00:57:00  0.981165    0.956694    1.001515\n",
       "1497 2021-02-01 00:58:00  0.981026    0.957323    1.001690\n",
       "1498 2021-02-01 00:59:00  0.980887    0.955534    1.001973\n",
       "1499 2021-02-01 01:00:00  0.980748    0.954963    1.001682"
      ]
     },
     "execution_count": 19,
     "metadata": {},
     "output_type": "execute_result"
    }
   ],
   "source": [
    "# 120분 테스트 데이터를 예측합니다.\n",
    "future_data = prophet.make_future_dataframe(periods=120, freq='min')\n",
    "forecast_data = prophet.predict(future_data)\n",
    "forecast_data[['ds', 'yhat', 'yhat_lower', 'yhat_upper']].tail(5)"
   ]
  },
  {
   "cell_type": "code",
   "execution_count": 20,
   "metadata": {
    "colab": {
     "base_uri": "https://localhost:8080/",
     "height": 194
    },
    "id": "sD_coq5wQoTp",
    "outputId": "1cff4e53-90fb-4616-c2a0-0a3844b246f0"
   },
   "outputs": [
    {
     "data": {
      "image/png": "[encoded data removed]",
      "text/plain": [
       "<Figure size 720x432 with 1 Axes>"
      ]
     },
     "metadata": {},
     "output_type": "display_data"
    }
   ],
   "source": [
    "# 만들어진 데이터를 확인합니다.\n",
    "fig1 = prophet.plot(forecast_data)"
   ]
  },
  {
   "cell_type": "code",
   "execution_count": 21,
   "metadata": {
    "colab": {
     "base_uri": "https://localhost:8080/",
     "height": 113
    },
    "id": "W801QKVoRIZZ",
    "outputId": "868739ff-41f6-4cd8-9f6b-5d8e54bda244"
   },
   "outputs": [
    {
     "data": {
      "image/png": "[encoded data removed]",
      "text/plain": [
       "<Figure size 648x216 with 1 Axes>"
      ]
     },
     "metadata": {},
     "output_type": "display_data"
    }
   ],
   "source": [
    "# 데이터의 추세를 확인합니다.\n",
    "fig2 = prophet.plot_components(forecast_data)"
   ]
  },
  {
   "cell_type": "code",
   "execution_count": 22,
   "metadata": {
    "colab": {
     "base_uri": "https://localhost:8080/",
     "height": 212
    },
    "id": "6bh85RPjRicv",
    "outputId": "d45673da-2939-46f7-9633-6485f5bdb636"
   },
   "outputs": [
    {
     "data": {
      "image/png": "[encoded data removed]",
      "text/plain": [
       "<Figure size 432x288 with 1 Axes>"
      ]
     },
     "metadata": {
      "needs_background": "light"
     },
     "output_type": "display_data"
    }
   ],
   "source": [
    "pred_y = forecast_data.yhat.values[-120:]\n",
    "pred_y_lower = forecast_data.yhat_lower.values[-120:]\n",
    "pred_y_upper = forecast_data.yhat_upper.values[-120:]\n",
    "\n",
    "plot_series(x_series, y_series)\n",
    "plt.plot(np.arange(1380, 1380+120), pred_y, label = 'prediction')\n",
    "plt.plot(np.arange(1380, 1380+120), pred_y_lower, label = 'prediction_lower')\n",
    "plt.plot(np.arange(1380, 1380+120), pred_y_upper, label = 'prediction_upper')\n",
    "plt.legend()\n",
    "plt.show()"
   ]
  },
  {
   "cell_type": "markdown",
   "metadata": {
    "id": "YtuukNJWpc86"
   },
   "source": [
    "## 2) validation set 훈련하기"
   ]
  },
  {
   "cell_type": "markdown",
   "metadata": {
    "id": "F2BdgnN6pc86"
   },
   "source": [
    "### <1> validation 데이터 생성하기"
   ]
  },
  {
   "cell_type": "code",
   "execution_count": 23,
   "metadata": {
    "id": "ZCiQicATpc87"
   },
   "outputs": [],
   "source": [
    "# train 데이터 상단의 300개 샘플로 validation set를 구성하여 학습 및 추론\n",
    "valid_x_df = train_x_df[train_x_df.sample_id < 300]\n",
    "valid_y_df = train_y_df[train_y_df.sample_id < 300]\n",
    "\n",
    "valid_x_array = df2d_to_array3d(valid_x_df)\n",
    "valid_y_array = df2d_to_array3d(valid_y_df)\n",
    "valid_pred_array = np.zeros([300, 120])"
   ]
  },
  {
   "cell_type": "markdown",
   "metadata": {
    "id": "qSa6gsKvpc87"
   },
   "source": [
    "### <2> 학습 및 추론하기"
   ]
  },
  {
   "cell_type": "code",
   "execution_count": 24,
   "metadata": {
    "colab": {
     "base_uri": "https://localhost:8080/"
    },
    "id": "fPBiAu0_pc87",
    "outputId": "5d921f99-cb48-451b-9a05-2543d06c1717"
   },
   "outputs": [
    {
     "name": "stderr",
     "output_type": "stream",
     "text": [
      "100%|██████████| 300/300 [18:25<00:00,  3.69s/it]\n"
     ]
    }
   ],
   "source": [
    "for idx in tqdm(range(valid_x_array.shape[0])):\n",
    "    try:\n",
    "        x_series = valid_x_array[idx,:,1]\n",
    "\n",
    "        x_df = pd.DataFrame()\n",
    "        x_df['ds'] = [start_dt + datetime.timedelta(minutes = time_min) for time_min in np.arange(1, x_series.shape[0]+1).tolist()]\n",
    "        x_df['y'] = x_series.tolist()\n",
    "\n",
    "        prophet = Prophet(\n",
    "                  yearly_seasonality=False,\n",
    "                  weekly_seasonality=False, daily_seasonality=False,\n",
    "                  changepoint_prior_scale=scale,\n",
    "                         interval_width=width, changepoint_range=point_range)\n",
    "        prophet.fit(x_df)\n",
    "\n",
    "        # 120분 테스트 데이터를 예측합니다.\n",
    "        future_data = prophet.make_future_dataframe(periods=120, freq='min')\n",
    "        forecast_data = prophet.predict(future_data)\n",
    "\n",
    "        pred_y = forecast_data.yhat.values[-120:]\n",
    "        pred_y_lower = forecast_data.yhat_lower.values[-120:]\n",
    "        pred_y_upper = forecast_data.yhat_upper.values[-120:]\n",
    "\n",
    "        valid_pred_array[idx,:] = pred_y\n",
    "    except:\n",
    "        print(idx, \" 샘플은 수렴하지 않습니다.\")\n",
    "        pass"
   ]
  },
  {
   "cell_type": "markdown",
   "metadata": {
    "id": "4JG8kRkOpc88"
   },
   "source": [
    "### <3> valid_pred_array 로부터 buy_quantity, sell_time 구하기"
   ]
  },
  {
   "cell_type": "code",
   "execution_count": 25,
   "metadata": {},
   "outputs": [],
   "source": [
    "valid_pred_array[idx,:] = pred_y_upper"
   ]
  },
  {
   "cell_type": "code",
   "execution_count": 26,
   "metadata": {
    "id": "j6KqLIzKpc88"
   },
   "outputs": [],
   "source": [
    "def array_to_submission(x_array, pred_array):\n",
    "    # 입력 x_arrry와 출력 pred_arry를 통해서 \n",
    "    # buy_quantitiy와 sell_time을 결정\n",
    "    submission = pd.DataFrame(np.zeros([pred_array.shape[0],2], np.int64),\n",
    "                columns = ['buy_quantity', 'sell_time'])\n",
    "    submission = submission.reset_index()\n",
    "    submission.loc[:, 'buy_quantity'] = 0.1\n",
    "    \n",
    "    buy_price = []\n",
    "    sell = []\n",
    "    for idx, sell_time in enumerate(np.argmax(pred_array, axis = 1)):\n",
    "        buy_price.append(pred_array[idx, sell_time])\n",
    "        \n",
    "    buy_price = np.array(buy_price)\n",
    "    # 115% 이상 상승한하고 예측한 sample에 대해서만 100% 매수\n",
    "    submission.loc[:, 'buy_quantity'] = (buy_price > 1.05) * 1\n",
    "    # 모델이 예측값 중 최대 값에 해당하는 시간에 매도\n",
    "    submission['sell_time'] = np.argmax(pred_array, axis = 1)\n",
    "    submission.columns = ['sample_id','buy_quantity', 'sell_time']\n",
    "    return submission"
   ]
  },
  {
   "cell_type": "code",
   "execution_count": 27,
   "metadata": {
    "id": "eglMXdGzpc88"
   },
   "outputs": [],
   "source": [
    "valid_submission = array_to_submission(valid_x_array, valid_pred_array)"
   ]
  },
  {
   "cell_type": "code",
   "execution_count": 28,
   "metadata": {},
   "outputs": [
    {
     "data": {
      "text/html": [
       "<div>\n",
       "<style scoped>\n",
       "    .dataframe tbody tr th:only-of-type {\n",
       "        vertical-align: middle;\n",
       "    }\n",
       "\n",
       "    .dataframe tbody tr th {\n",
       "        vertical-align: top;\n",
       "    }\n",
       "\n",
       "    .dataframe thead th {\n",
       "        text-align: right;\n",
       "    }\n",
       "</style>\n",
       "<table border=\"1\" class=\"dataframe\">\n",
       "  <thead>\n",
       "    <tr style=\"text-align: right;\">\n",
       "      <th></th>\n",
       "      <th>sample_id</th>\n",
       "      <th>buy_quantity</th>\n",
       "      <th>sell_time</th>\n",
       "    </tr>\n",
       "  </thead>\n",
       "  <tbody>\n",
       "    <tr>\n",
       "      <th>0</th>\n",
       "      <td>0</td>\n",
       "      <td>0</td>\n",
       "      <td>0</td>\n",
       "    </tr>\n",
       "    <tr>\n",
       "      <th>1</th>\n",
       "      <td>1</td>\n",
       "      <td>0</td>\n",
       "      <td>0</td>\n",
       "    </tr>\n",
       "    <tr>\n",
       "      <th>2</th>\n",
       "      <td>2</td>\n",
       "      <td>0</td>\n",
       "      <td>119</td>\n",
       "    </tr>\n",
       "    <tr>\n",
       "      <th>3</th>\n",
       "      <td>3</td>\n",
       "      <td>0</td>\n",
       "      <td>0</td>\n",
       "    </tr>\n",
       "    <tr>\n",
       "      <th>4</th>\n",
       "      <td>4</td>\n",
       "      <td>0</td>\n",
       "      <td>0</td>\n",
       "    </tr>\n",
       "    <tr>\n",
       "      <th>...</th>\n",
       "      <td>...</td>\n",
       "      <td>...</td>\n",
       "      <td>...</td>\n",
       "    </tr>\n",
       "    <tr>\n",
       "      <th>295</th>\n",
       "      <td>295</td>\n",
       "      <td>0</td>\n",
       "      <td>119</td>\n",
       "    </tr>\n",
       "    <tr>\n",
       "      <th>296</th>\n",
       "      <td>296</td>\n",
       "      <td>0</td>\n",
       "      <td>0</td>\n",
       "    </tr>\n",
       "    <tr>\n",
       "      <th>297</th>\n",
       "      <td>297</td>\n",
       "      <td>0</td>\n",
       "      <td>0</td>\n",
       "    </tr>\n",
       "    <tr>\n",
       "      <th>298</th>\n",
       "      <td>298</td>\n",
       "      <td>0</td>\n",
       "      <td>0</td>\n",
       "    </tr>\n",
       "    <tr>\n",
       "      <th>299</th>\n",
       "      <td>299</td>\n",
       "      <td>1</td>\n",
       "      <td>119</td>\n",
       "    </tr>\n",
       "  </tbody>\n",
       "</table>\n",
       "<p>300 rows × 3 columns</p>\n",
       "</div>"
      ],
      "text/plain": [
       "     sample_id  buy_quantity  sell_time\n",
       "0            0             0          0\n",
       "1            1             0          0\n",
       "2            2             0        119\n",
       "3            3             0          0\n",
       "4            4             0          0\n",
       "..         ...           ...        ...\n",
       "295        295             0        119\n",
       "296        296             0          0\n",
       "297        297             0          0\n",
       "298        298             0          0\n",
       "299        299             1        119\n",
       "\n",
       "[300 rows x 3 columns]"
      ]
     },
     "execution_count": 28,
     "metadata": {},
     "output_type": "execute_result"
    }
   ],
   "source": [
    "valid_submission"
   ]
  },
  {
   "cell_type": "code",
   "execution_count": 29,
   "metadata": {
    "id": "gkAoT7N-pc89"
   },
   "outputs": [
    {
     "data": {
      "text/plain": [
       "2      119\n",
       "5      119\n",
       "7      119\n",
       "8      119\n",
       "12     119\n",
       "      ... \n",
       "288    119\n",
       "290    119\n",
       "294    119\n",
       "295    119\n",
       "299    119\n",
       "Name: sell_time, Length: 130, dtype: int64"
      ]
     },
     "execution_count": 29,
     "metadata": {},
     "output_type": "execute_result"
    }
   ],
   "source": [
    "valid_submission[valid_submission['sell_time']!=0]['sell_time']"
   ]
  },
  {
   "cell_type": "code",
   "execution_count": 30,
   "metadata": {
    "colab": {
     "base_uri": "https://localhost:8080/"
    },
    "id": "LhFcUSVapc89",
    "outputId": "2e620f1c-f2cb-4658-cf2f-3831aeb6a2ad"
   },
   "outputs": [
    {
     "data": {
      "text/plain": [
       "0    292\n",
       "1      8\n",
       "Name: buy_quantity, dtype: int64"
      ]
     },
     "execution_count": 30,
     "metadata": {},
     "output_type": "execute_result"
    }
   ],
   "source": [
    "# 전체 300가지 sample에 대해\n",
    "# 5가지 case에서 115% 이상 상승한다고 추론함.\n",
    "valid_submission.buy_quantity.value_counts()"
   ]
  },
  {
   "cell_type": "markdown",
   "metadata": {
    "id": "SgR-gqhmpc89"
   },
   "source": [
    "### <4> 투자 후 금액 계산하기"
   ]
  },
  {
   "cell_type": "code",
   "execution_count": 31,
   "metadata": {
    "id": "Z7033aeGpc8-"
   },
   "outputs": [],
   "source": [
    "def df2d_to_answer(df_2d):\n",
    "    # valid_y_df로부터\n",
    "    # open 가격 정보가 포함된\n",
    "    # [샘플 수, 120분] 크기의 \n",
    "    # 2차원 array를 반환하는 함수\n",
    "    feature_size = df_2d.iloc[:,2:].shape[1]\n",
    "    time_size = len(df_2d.time.value_counts())\n",
    "    sample_size = len(df_2d.sample_id.value_counts())\n",
    "    sample_index = df_2d.sample_id.value_counts().index\n",
    "    array_2d = df_2d.open.values.reshape([sample_size, time_size])\n",
    "    sample_index = list(sample_index)\n",
    "    return array_2d, sample_index\n",
    "\n",
    "\n",
    "def COIN(y_df, submission, df2d_to_answer = df2d_to_answer):\n",
    "    # 2차원 데이터프레임에서 open 시점 데이터만 추출하여 array로 복원\n",
    "    # sample_id정보를 index에 저장\n",
    "    y_array, index = df2d_to_answer(y_df)\n",
    "    \n",
    "    # index 기준으로 submission을 다시 선택\n",
    "    submission = submission.set_index(submission.columns[0])\n",
    "    submission = submission.iloc[index, :]    \n",
    "    \n",
    "    # 초기 투자 비용은 10000 달러\n",
    "    total_momey      = 10000 # dolors\n",
    "    total_momey_list = []\n",
    "    \n",
    "    # 가장 처음 sample_id값\n",
    "    start_index = submission.index[0]\n",
    "    for row_idx in submission.index:\n",
    "        sell_time  = submission.loc[row_idx, 'sell_time']\n",
    "        buy_price  = y_array[row_idx - start_index, 0]\n",
    "        sell_price = y_array[row_idx - start_index, sell_time]\n",
    "        buy_quantity = submission.loc[row_idx, 'buy_quantity'] * total_momey\n",
    "        residual = total_momey - buy_quantity\n",
    "        ratio = sell_price / buy_price\n",
    "        total_momey = buy_quantity * ratio * 0.9995 * 0.9995 + residual        \n",
    "        total_momey_list.append(total_momey)\n",
    "        \n",
    "    return total_momey, total_momey_list"
   ]
  },
  {
   "cell_type": "code",
   "execution_count": 32,
   "metadata": {
    "id": "aRmXcrh5pc8-"
   },
   "outputs": [],
   "source": [
    "total_momey, total_momey_list = COIN(valid_y_df,\n",
    "                                     valid_submission)"
   ]
  },
  {
   "cell_type": "code",
   "execution_count": 33,
   "metadata": {
    "colab": {
     "base_uri": "https://localhost:8080/"
    },
    "id": "0afyWYRWpc8-",
    "outputId": "8f026a85-5954-422f-d088-9d3847ca29f5"
   },
   "outputs": [
    {
     "name": "stdout",
     "output_type": "stream",
     "text": [
      "11060.953078926483\n"
     ]
    }
   ],
   "source": [
    "# 투자 후 금액\n",
    "print(total_momey)"
   ]
  },
  {
   "cell_type": "code",
   "execution_count": 34,
   "metadata": {
    "id": "AMov4MX3pc8_"
   },
   "outputs": [
    {
     "data": {
      "image/png": "[encoded data removed]",
      "text/plain": [
       "<Figure size 432x288 with 1 Axes>"
      ]
     },
     "metadata": {
      "needs_background": "light"
     },
     "output_type": "display_data"
    }
   ],
   "source": [
    "# 투자 히스토리\n",
    "plt.plot(total_momey_list)\n",
    "plt.title(\"history\")\n",
    "plt.show()"
   ]
  },
  {
   "cell_type": "markdown",
   "metadata": {
    "id": "dmeXYUE1pc8_"
   },
   "source": [
    "# 4. test 데이터 학습하고 추론하기"
   ]
  },
  {
   "cell_type": "code",
   "execution_count": 35,
   "metadata": {
    "colab": {
     "base_uri": "https://localhost:8080/"
    },
    "id": "4QVrQn_opc8_",
    "outputId": "b0b80dad-e516-43d9-d2ab-4f5de2320604"
   },
   "outputs": [
    {
     "name": "stderr",
     "output_type": "stream",
     "text": [
      "100%|██████████| 529/529 [17:52<00:00,  2.03s/it]\n"
     ]
    }
   ],
   "source": [
    "test_pred_array = np.zeros([test_x_array.shape[0],\n",
    "                           120])\n",
    "\n",
    "# 파라미터 조정\n",
    "scale = 0.02\n",
    "width = 0.95\n",
    "point_range = 1\n",
    "\n",
    "for idx in tqdm(range(test_x_array.shape[0])):\n",
    "    try:\n",
    "        x_series = test_x_array[idx,:,1]\n",
    "\n",
    "        x_df = pd.DataFrame()\n",
    "        x_df['ds'] = [start_dt + datetime.timedelta(minutes = time_min) for time_min in np.arange(1, x_series.shape[0]+1).tolist()]\n",
    "        x_df['y'] = x_series.tolist()\n",
    "\n",
    "        prophet = Prophet( \n",
    "                  yearly_seasonality=False,\n",
    "                  weekly_seasonality=False, daily_seasonality=False,\n",
    "                  changepoint_prior_scale=scale, interval_width=width, changepoint_range=point_range)\n",
    "        prophet.fit(x_df)\n",
    "\n",
    "        # 120분 테스트 데이터를 예측합니다.\n",
    "        future_data = prophet.make_future_dataframe(periods=120, freq='min')\n",
    "        forecast_data = prophet.predict(future_data)\n",
    "\n",
    "        pred_y = forecast_data.yhat.values[-120:]\n",
    "        pred_y_lower = forecast_data.yhat_lower.values[-120:]\n",
    "        pred_y_upper = forecast_data.yhat_upper.values[-120:]\n",
    "\n",
    "        test_pred_array[idx,:] = pred_y\n",
    "    except:\n",
    "        print(idx, \" 샘플은 수렴하지 않습니다.\")\n",
    "        pass"
   ]
  },
  {
   "cell_type": "markdown",
   "metadata": {
    "id": "p14PbsG2pc9A"
   },
   "source": [
    "## 추론한 test_pred_array를 바탕으로 submission df 생성하기"
   ]
  },
  {
   "cell_type": "code",
   "execution_count": 36,
   "metadata": {
    "id": "Xq8zvVmRpc9B"
   },
   "outputs": [],
   "source": [
    "submission = array_to_submission(test_x_array, test_pred_array)"
   ]
  },
  {
   "cell_type": "code",
   "execution_count": 37,
   "metadata": {
    "id": "iIVecsHSpc9B"
   },
   "outputs": [],
   "source": [
    "import time\n",
    "\n",
    "submission.to_csv(data_path+\"/proh_scale={}_width={}_range={}_{}.csv\".format(scale, width, point_range, time.strftime('%H%M%S')), index = False)"
   ]
  },
  {
   "cell_type": "code",
   "execution_count": 38,
   "metadata": {},
   "outputs": [
    {
     "data": {
      "image/png": "[encoded data removed]",
      "text/plain": [
       "<Figure size 720x432 with 1 Axes>"
      ]
     },
     "metadata": {},
     "output_type": "display_data"
    }
   ],
   "source": [
    "from fbprophet.plot import add_changepoints_to_plot\n",
    "\n",
    "\n",
    "fig = prophet.plot(forecast_data)\n",
    "a = add_changepoints_to_plot(fig.gca(), prophet, forecast_data)"
   ]
  }
 ],
 "metadata": {
  "colab": {
   "collapsed_sections": [],
   "name": "인공지능_비트 트레이더 경진대회 fbprophet 베이스라인.ipynb",
   "provenance": []
  },
  "kernelspec": {
   "display_name": "Python 3",
   "language": "python",
   "name": "python3"
  },
  "language_info": {
   "codemirror_mode": {
    "name": "ipython",
    "version": 3
   },
   "file_extension": ".py",
   "mimetype": "text/x-python",
   "name": "python",
   "nbconvert_exporter": "python",
   "pygments_lexer": "ipython3",
   "version": "3.7.9"
  }
 },
 "nbformat": 4,
 "nbformat_minor": 1
}
